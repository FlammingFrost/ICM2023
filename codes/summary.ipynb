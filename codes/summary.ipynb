{
 "cells": [
  {
   "cell_type": "code",
   "execution_count": 134,
   "metadata": {},
   "outputs": [],
   "source": [
    "import pandas as pd\n",
    "import numpy as np"
   ]
  },
  {
   "cell_type": "code",
   "execution_count": 135,
   "metadata": {},
   "outputs": [],
   "source": [
    "eta_cos = pd.read_csv('eta_cos.csv', index_col=0, header=0)\n",
    "eta_sb = pd.read_csv('eta_sb.csv', index_col=0, header=0)\n",
    "eta_trunc = pd.read_csv('eta_trunc.csv', index_col=0, header=0)\n",
    "eta = pd.read_csv('eta.csv', index_col=0, header=0)"
   ]
  },
  {
   "cell_type": "code",
   "execution_count": 136,
   "metadata": {},
   "outputs": [
    {
     "data": {
      "text/plain": [
       "0     0.757996\n",
       "1     0.775336\n",
       "2     0.785425\n",
       "3     0.788658\n",
       "4     0.785937\n",
       "5     0.776465\n",
       "6     0.759672\n",
       "7     0.738245\n",
       "8     0.718819\n",
       "9     0.709626\n",
       "10    0.715273\n",
       "11    0.732875\n",
       "dtype: float64"
      ]
     },
     "execution_count": 136,
     "metadata": {},
     "output_type": "execute_result"
    }
   ],
   "source": [
    "eta_cos.mean(axis=1)"
   ]
  },
  {
   "cell_type": "code",
   "execution_count": 137,
   "metadata": {},
   "outputs": [
    {
     "data": {
      "text/plain": [
       "0     0.936182\n",
       "1     0.935140\n",
       "2     0.934523\n",
       "3     0.934325\n",
       "4     0.934492\n",
       "5     0.935072\n",
       "6     0.936086\n",
       "7     0.935189\n",
       "8     0.925755\n",
       "9     0.917091\n",
       "10    0.922845\n",
       "11    0.933491\n",
       "dtype: float64"
      ]
     },
     "execution_count": 137,
     "metadata": {},
     "output_type": "execute_result"
    }
   ],
   "source": [
    "eta_sb.mean(axis=1)"
   ]
  },
  {
   "cell_type": "code",
   "execution_count": 138,
   "metadata": {},
   "outputs": [
    {
     "data": {
      "text/plain": [
       "0     0.949674\n",
       "1     0.950234\n",
       "2     0.950677\n",
       "3     0.950883\n",
       "4     0.950707\n",
       "5     0.950286\n",
       "6     0.949709\n",
       "7     0.949565\n",
       "8     0.949875\n",
       "9     0.950135\n",
       "10    0.949967\n",
       "11    0.949615\n",
       "dtype: float64"
      ]
     },
     "execution_count": 138,
     "metadata": {},
     "output_type": "execute_result"
    }
   ],
   "source": [
    "eta_trunc.mean(axis=1)"
   ]
  },
  {
   "cell_type": "code",
   "execution_count": 139,
   "metadata": {},
   "outputs": [
    {
     "data": {
      "text/plain": [
       "0     0.611414\n",
       "1     0.626417\n",
       "2     0.635251\n",
       "3     0.638135\n",
       "4     0.635705\n",
       "5     0.627407\n",
       "6     0.612852\n",
       "7     0.593063\n",
       "8     0.569527\n",
       "9     0.555754\n",
       "10    0.564492\n",
       "11    0.587120\n",
       "dtype: float64"
      ]
     },
     "execution_count": 139,
     "metadata": {},
     "output_type": "execute_result"
    }
   ],
   "source": [
    "eta.mean(axis=1)"
   ]
  },
  {
   "cell_type": "code",
   "execution_count": 140,
   "metadata": {},
   "outputs": [
    {
     "name": "stdout",
     "output_type": "stream",
     "text": [
      "0.7536939431188866 0.9316825368666689 0.9501104280098039 0.6047612863850492\n"
     ]
    }
   ],
   "source": [
    "print(eta_cos.mean(axis=1).mean(), eta_sb.mean(axis=1).mean(), eta_trunc.mean(axis=1).mean(), eta.mean(axis=1).mean())"
   ]
  },
  {
   "cell_type": "code",
   "execution_count": null,
   "metadata": {},
   "outputs": [],
   "source": []
  }
 ],
 "metadata": {
  "kernelspec": {
   "display_name": "Python 3",
   "language": "python",
   "name": "python3"
  },
  "language_info": {
   "codemirror_mode": {
    "name": "ipython",
    "version": 3
   },
   "file_extension": ".py",
   "mimetype": "text/x-python",
   "name": "python",
   "nbconvert_exporter": "python",
   "pygments_lexer": "ipython3",
   "version": "3.10.11"
  },
  "orig_nbformat": 4
 },
 "nbformat": 4,
 "nbformat_minor": 2
}
