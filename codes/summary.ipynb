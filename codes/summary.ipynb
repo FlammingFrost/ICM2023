{
 "cells": [
  {
   "cell_type": "code",
   "execution_count": 156,
   "metadata": {},
   "outputs": [],
   "source": [
    "import pandas as pd\n",
    "import numpy as np"
   ]
  },
  {
   "cell_type": "code",
   "execution_count": 157,
   "metadata": {},
   "outputs": [],
   "source": [
    "eta_cos = pd.read_csv('eta_cos.csv', index_col=0, header=0)\n",
    "eta_sb = pd.read_csv('eta_sb.csv', index_col=0, header=0)\n",
    "eta_trunc = pd.read_csv('eta_trunc.csv', index_col=0, header=0)\n",
    "eta = pd.read_csv('eta.csv', index_col=0, header=0)"
   ]
  },
  {
   "cell_type": "code",
   "execution_count": 158,
   "metadata": {},
   "outputs": [],
   "source": [
    "c1=eta_cos.mean(axis=1)"
   ]
  },
  {
   "cell_type": "code",
   "execution_count": 159,
   "metadata": {},
   "outputs": [],
   "source": [
    "c2=eta_sb.mean(axis=1)"
   ]
  },
  {
   "cell_type": "code",
   "execution_count": 160,
   "metadata": {},
   "outputs": [],
   "source": [
    "c3=eta_trunc.mean(axis=1)"
   ]
  },
  {
   "cell_type": "code",
   "execution_count": 161,
   "metadata": {},
   "outputs": [],
   "source": [
    "c4=eta.mean(axis=1)"
   ]
  },
  {
   "cell_type": "code",
   "execution_count": 162,
   "metadata": {},
   "outputs": [
    {
     "name": "stdout",
     "output_type": "stream",
     "text": [
      "0.7567096375792736 0.9993224498769081 0.9770629751215787 0.6640347230762017\n"
     ]
    }
   ],
   "source": [
    "print(eta_cos.mean(axis=1).mean(), eta_sb.mean(axis=1).mean(), eta_trunc.mean(axis=1).mean(), eta.mean(axis=1).mean())"
   ]
  },
  {
   "cell_type": "code",
   "execution_count": 163,
   "metadata": {},
   "outputs": [],
   "source": [
    "table = pd.DataFrame({'cos':c1, 'sb':c2, 'trunc':c3, 'full':c4})\n",
    "table.to_csv('q1_summary.csv')"
   ]
  },
  {
   "cell_type": "code",
   "execution_count": null,
   "metadata": {},
   "outputs": [],
   "source": []
  }
 ],
 "metadata": {
  "kernelspec": {
   "display_name": "Python 3",
   "language": "python",
   "name": "python3"
  },
  "language_info": {
   "codemirror_mode": {
    "name": "ipython",
    "version": 3
   },
   "file_extension": ".py",
   "mimetype": "text/x-python",
   "name": "python",
   "nbconvert_exporter": "python",
   "pygments_lexer": "ipython3",
   "version": "3.10.11"
  },
  "orig_nbformat": 4
 },
 "nbformat": 4,
 "nbformat_minor": 2
}
